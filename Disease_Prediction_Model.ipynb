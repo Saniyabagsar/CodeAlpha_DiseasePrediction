{
  "nbformat": 4,
  "nbformat_minor": 0,
  "metadata": {
    "colab": {
      "provenance": []
    },
    "kernelspec": {
      "name": "python3",
      "display_name": "Python 3"
    },
    "language_info": {
      "name": "python"
    }
  },
  "cells": [
    {
      "cell_type": "code",
      "execution_count": 10,
      "metadata": {
        "colab": {
          "base_uri": "https://localhost:8080/"
        },
        "id": "Zs4bLODSlpai",
        "outputId": "b518c13e-d0bb-4a6b-a773-1c7bd7c15d65"
      },
      "outputs": [
        {
          "output_type": "stream",
          "name": "stdout",
          "text": [
            "Accuracy: 0.8278688524590164\n",
            "              precision    recall  f1-score   support\n",
            "\n",
            "           0       0.84      0.98      0.90       610\n",
            "           1       0.40      0.07      0.11       122\n",
            "\n",
            "    accuracy                           0.83       732\n",
            "   macro avg       0.62      0.52      0.51       732\n",
            "weighted avg       0.77      0.83      0.77       732\n",
            "\n",
            "Before SMOTE: Heart_ stroke\n",
            "0    2489\n",
            "1     435\n",
            "Name: count, dtype: int64\n",
            "After SMOTE: Heart_ stroke\n",
            "0    2489\n",
            "1    2489\n",
            "Name: count, dtype: int64\n",
            "Accuracy: 0.7855191256830601\n",
            "              precision    recall  f1-score   support\n",
            "\n",
            "           0       0.85      0.90      0.87       610\n",
            "           1       0.30      0.22      0.26       122\n",
            "\n",
            "    accuracy                           0.79       732\n",
            "   macro avg       0.58      0.56      0.57       732\n",
            "weighted avg       0.76      0.79      0.77       732\n",
            "\n"
          ]
        }
      ],
      "source": [
        "import pandas as pd\n",
        "from sklearn.model_selection import train_test_split\n",
        "from sklearn.preprocessing import StandardScaler\n",
        "from sklearn.ensemble import RandomForestClassifier\n",
        "from sklearn.metrics import accuracy_score, classification_report\n",
        "\n",
        "# Step 1: Load dataset\n",
        "df = pd.read_csv(\"heart_disease.csv\")\n",
        "\n",
        "# Step 2: Drop rows with missing values\n",
        "df.dropna(inplace=True)\n",
        "\n",
        "# Step 3: Encode categorical variables\n",
        "df['Gender'] = df['Gender'].map({'Male': 1, 'Female': 0})\n",
        "df['prevalentStroke'] = df['prevalentStroke'].map({'yes': 1, 'no': 0})\n",
        "df['Heart_ stroke'] = df['Heart_ stroke'].map({'yes': 1, 'No': 0})\n",
        "\n",
        "# One-hot encode 'education'\n",
        "df = pd.get_dummies(df, columns=['education'], drop_first=True)\n",
        "\n",
        "# Step 4: Define features and target\n",
        "X = df.drop('Heart_ stroke', axis=1)\n",
        "y = df['Heart_ stroke']\n",
        "\n",
        "# Step 5: Scale features\n",
        "scaler = StandardScaler()\n",
        "X_scaled = scaler.fit_transform(X)\n",
        "\n",
        "# Step 6: Split the dataset\n",
        "X_train, X_test, y_train, y_test = train_test_split(\n",
        "    X_scaled, y, test_size=0.2, random_state=42\n",
        ")\n",
        "\n",
        "# Step 7: Train the model\n",
        "model = RandomForestClassifier()\n",
        "model.fit(X_train, y_train)\n",
        "\n",
        "# Step 8: Predict and evaluate\n",
        "y_pred = model.predict(X_test)\n",
        "print(\"Accuracy:\", accuracy_score(y_test, y_pred))\n",
        "print(classification_report(y_test, y_pred))\n",
        "\n",
        "from imblearn.over_sampling import SMOTE\n",
        "from sklearn.ensemble import RandomForestClassifier\n",
        "from sklearn.metrics import accuracy_score, classification_report\n",
        "import pandas as pd\n",
        "\n",
        "# Apply SMOTE to training data only\n",
        "sm = SMOTE(random_state=42)\n",
        "X_train_resampled, y_train_resampled = sm.fit_resample(X_train, y_train)\n",
        "\n",
        "print(\"Before SMOTE:\", y_train.value_counts())\n",
        "print(\"After SMOTE:\", pd.Series(y_train_resampled).value_counts())\n",
        "\n",
        "# Train model on resampled data\n",
        "model = RandomForestClassifier(random_state=42)\n",
        "model.fit(X_train_resampled, y_train_resampled)\n",
        "\n",
        "# Predict on original test set\n",
        "y_pred = model.predict(X_test)\n",
        "\n",
        "# Evaluation\n",
        "print(\"Accuracy:\", accuracy_score(y_test, y_pred))\n",
        "print(classification_report(y_test, y_pred))\n",
        "\n"
      ]
    }
  ]
}